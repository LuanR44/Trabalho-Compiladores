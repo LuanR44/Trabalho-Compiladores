{
 "cells": [
  {
   "cell_type": "markdown",
   "metadata": {},
   "source": [
    "# Exemplos Analisador Sintático"
   ]
  },
  {
   "cell_type": "markdown",
   "metadata": {},
   "source": [
    "## Exemplo 1"
   ]
  },
  {
   "cell_type": "markdown",
   "metadata": {},
   "source": [
    "COMECAPARTIDA\n",
    "    Escalacao golint PontosTimeA;\n",
    "    Escalacao golint PontosTimeB;\n",
    "FIMDEJOGO"
   ]
  },
  {
   "cell_type": "markdown",
   "metadata": {},
   "source": [
    "### Resposta 1"
   ]
  },
  {
   "cell_type": "markdown",
   "metadata": {},
   "source": [
    " SINTAXE CORRETA!\n",
    " \n",
    " Esse é um código básico que contém apenas a declaração de duas variáveis do tipo golint, com COMECAPARTIDA no início e FIMDEJOGO no final."
   ]
  },
  {
   "cell_type": "markdown",
   "metadata": {},
   "source": [
    "## Exemplo 2"
   ]
  },
  {
   "cell_type": "markdown",
   "metadata": {},
   "source": [
    "COMECAPARTIDA\n",
    "    Escalacao golint PontosTimeA;\n",
    "    PontosTimeA = 10;\n",
    "FIMDEJOGO"
   ]
  },
  {
   "cell_type": "markdown",
   "metadata": {},
   "source": [
    "### Resposta 2"
   ]
  },
  {
   "cell_type": "markdown",
   "metadata": {},
   "source": [
    "SINTAXE CORRETA!\n",
    "\n",
    "Esse código declara uma variável PontosTimeA e faz uma atribuição de valor a ela. Também segue a estrutura básica da linguagem."
   ]
  },
  {
   "cell_type": "markdown",
   "metadata": {},
   "source": [
    "## Exemplo 3"
   ]
  },
  {
   "cell_type": "markdown",
   "metadata": {},
   "source": [
    "COMECAPARTIDA\n",
    "    Escalacao golint PontosTimeA;\n",
    "    Escalacao golint PontosTimeB;\n",
    "    Escalacao golreal MediaPontos;\n",
    "    RecebePasse(PontosTimeA = 10);\n",
    "    RecebePasse(PontosTimeB = 20);\n",
    "    MediaPontos = (PontosTimeA + PontosTimeB) / 2;\n",
    "    Placar(MediaPontos);\n",
    "FIMDEJOGO"
   ]
  },
  {
   "cell_type": "markdown",
   "metadata": {},
   "source": [
    "### Resposta 3"
   ]
  },
  {
   "cell_type": "markdown",
   "metadata": {},
   "source": [
    "SINTAXE CORRETA\n",
    "\n",
    "Este código é mais complexo, pois inclui declarações, atribuições, uma operação aritmética, e um comando de saída (Placar). Ele representa a estrutura completa da linguagem."
   ]
  },
  {
   "cell_type": "markdown",
   "metadata": {},
   "source": [
    "## Exemplo 4"
   ]
  },
  {
   "cell_type": "markdown",
   "metadata": {},
   "source": [
    "COMECAPARTIDA\n",
    "    Escalacao golint PontosTimeA;\n",
    "    Escalacao golint PontosTimeB;\n",
    "    PontosTimeA = 10;\n",
    "    PontosTimeB = 20;"
   ]
  },
  {
   "cell_type": "markdown",
   "metadata": {},
   "source": [
    "### Resposta 4"
   ]
  },
  {
   "cell_type": "markdown",
   "metadata": {},
   "source": [
    "Erro: FIMDEJOGO esperado no final do programa.\n",
    "\n",
    "Neste exemplo, o código está faltando a palavra-chave FIMDEJOGO no final do programa."
   ]
  },
  {
   "cell_type": "markdown",
   "metadata": {},
   "source": [
    "## Exemplo 5"
   ]
  },
  {
   "cell_type": "markdown",
   "metadata": {},
   "source": [
    "COMECAPARTIDA\n",
    "    Escalacao inteiro PontosTimeA;\n",
    "    RecebePasse(PontosTimeA = 10);\n",
    "FIMDEJOGO"
   ]
  },
  {
   "cell_type": "markdown",
   "metadata": {},
   "source": [
    "### Resposta 5"
   ]
  },
  {
   "cell_type": "markdown",
   "metadata": {},
   "source": [
    "Erro na declaração de variável na linha 2.\n",
    "\n",
    "Aqui, o tipo de variável foi escrito incorretamente como inteiro em vez de golint. Isso resulta em um erro de sintaxe."
   ]
  },
  {
   "cell_type": "markdown",
   "metadata": {},
   "source": [
    "## Exemplo 6 (Erro Léxico)"
   ]
  },
  {
   "cell_type": "markdown",
   "metadata": {},
   "source": [
    "COMECAPARTIDA\n",
    "Escalacao golint jogador1;\n",
    "RecebePasse(jogador1 = 10);\n",
    "@invalido = 5;\n",
    "FIMDEJOGO"
   ]
  }
 ],
 "metadata": {
  "language_info": {
   "name": "python"
  }
 },
 "nbformat": 4,
 "nbformat_minor": 2
}
